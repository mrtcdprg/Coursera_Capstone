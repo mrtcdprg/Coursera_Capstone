#  This workbook will be used mainly for the Coursera Applied Data Science Capstone Project!
import pandas as pd
import numpy as np
print("Hello Capstone Project Course!")
